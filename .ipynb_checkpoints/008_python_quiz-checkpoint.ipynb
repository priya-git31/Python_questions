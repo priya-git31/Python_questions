{
 "cells": [
  {
   "cell_type": "code",
   "execution_count": 4,
   "id": "dc79db6e",
   "metadata": {},
   "outputs": [],
   "source": [
    "# write a function to:\n",
    "# to add two strings apple and bake and get the len of the result string \n"
   ]
  },
  {
   "cell_type": "code",
   "execution_count": 16,
   "id": "2ef26c78",
   "metadata": {},
   "outputs": [
    {
     "name": "stdout",
     "output_type": "stream",
     "text": [
      "9\n"
     ]
    }
   ],
   "source": [
    "def add_length(a,b):\n",
    "    return len(a+b)\n",
    "\n",
    "\n",
    "result = add_length(\"apple\", \"bake\")\n",
    "print(result)"
   ]
  },
  {
   "cell_type": "code",
   "execution_count": null,
   "id": "3d42249b",
   "metadata": {},
   "outputs": [],
   "source": [
    "# take one number and add 100 and divide it by 23 and add 20 and return"
   ]
  },
  {
   "cell_type": "code",
   "execution_count": 8,
   "id": "875d5544",
   "metadata": {},
   "outputs": [
    {
     "name": "stdout",
     "output_type": "stream",
     "text": [
      "24.47826086956522\n"
     ]
    }
   ],
   "source": [
    "def math_function(a):\n",
    "    return((a+100)/23 + 20)\n",
    "\n",
    "result = math_function(3)\n",
    "print(result)\n",
    "    "
   ]
  },
  {
   "cell_type": "code",
   "execution_count": 17,
   "id": "453dbfc5",
   "metadata": {},
   "outputs": [],
   "source": [
    "# take a string and return the same string excet the last character"
   ]
  },
  {
   "cell_type": "code",
   "execution_count": 29,
   "id": "a2d9092b",
   "metadata": {},
   "outputs": [
    {
     "name": "stdout",
     "output_type": "stream",
     "text": [
      "maggi\n"
     ]
    }
   ],
   "source": [
    "def string_last(string):\n",
    "    return string[:-1]\n",
    "\n",
    "result = string_last(\"maggie\")\n",
    "print(result)"
   ]
  },
  {
   "cell_type": "code",
   "execution_count": null,
   "id": "63ba7478",
   "metadata": {},
   "outputs": [],
   "source": [
    "# take a list of 3 numbers and returns the sum of the numbers "
   ]
  },
  {
   "cell_type": "code",
   "execution_count": 60,
   "id": "61ccd66c",
   "metadata": {},
   "outputs": [
    {
     "name": "stdout",
     "output_type": "stream",
     "text": [
      "22\n"
     ]
    }
   ],
   "source": [
    "def sum_of_three_numbers(numbers):\n",
    "    return sum(numbers)\n",
    "\n",
    "result = sum_of_three_numbers([17,2,3])\n",
    "print(result)"
   ]
  },
  {
   "cell_type": "code",
   "execution_count": null,
   "id": "a1143235",
   "metadata": {},
   "outputs": [],
   "source": [
    "# takes 2 numbers and add 3 to number 1 and 4 to number 2 and then multuply them and return result"
   ]
  },
  {
   "cell_type": "code",
   "execution_count": 38,
   "id": "5d738551",
   "metadata": {},
   "outputs": [
    {
     "name": "stdout",
     "output_type": "stream",
     "text": [
      "56\n"
     ]
    }
   ],
   "source": [
    "def long_function(a,b):\n",
    "    x = a + 3 \n",
    "    y = b + 2 \n",
    "    return(x * y)\n",
    "\n",
    "result = long_function(4,6)\n",
    "print(result)"
   ]
  },
  {
   "cell_type": "code",
   "execution_count": null,
   "id": "3d22f051",
   "metadata": {},
   "outputs": [],
   "source": [
    "# take a string in lower case and return the upper case version of it"
   ]
  },
  {
   "cell_type": "code",
   "execution_count": 42,
   "id": "fd228a1d",
   "metadata": {},
   "outputs": [
    {
     "name": "stdout",
     "output_type": "stream",
     "text": [
      "PYTHON\n"
     ]
    }
   ],
   "source": [
    "def upper_case_convert(name):\n",
    "    return name.upper()\n",
    "\n",
    "result = upper_case_convert(\"python\")\n",
    "print(result)"
   ]
  },
  {
   "cell_type": "code",
   "execution_count": null,
   "id": "28d96fee",
   "metadata": {},
   "outputs": [],
   "source": [
    "# take a list of numbers and reverse it"
   ]
  },
  {
   "cell_type": "code",
   "execution_count": 61,
   "id": "150478ec",
   "metadata": {},
   "outputs": [
    {
     "name": "stdout",
     "output_type": "stream",
     "text": [
      "[23, 10, 1]\n"
     ]
    }
   ],
   "source": [
    "def reverse_numbers(numbers):\n",
    "    return numbers[::-1]\n",
    "\n",
    "result = reverse_numbers([1,10,23])\n",
    "print(result)"
   ]
  },
  {
   "cell_type": "code",
   "execution_count": 56,
   "id": "6c988a20",
   "metadata": {},
   "outputs": [],
   "source": [
    "# take 3 numbers and see how close is their sum to 100 "
   ]
  },
  {
   "cell_type": "code",
   "execution_count": 66,
   "id": "8d28a5c5",
   "metadata": {},
   "outputs": [
    {
     "name": "stdout",
     "output_type": "stream",
     "text": [
      "66\n"
     ]
    }
   ],
   "source": [
    "def sum_of_3(a,b,c):\n",
    "    x =  a + b + c\n",
    "    distance = abs(100 - x)\n",
    "    return (distance)\n",
    "\n",
    "result = sum_of_3(13,10,11)\n",
    "print(result)\n",
    "    \n"
   ]
  },
  {
   "cell_type": "code",
   "execution_count": null,
   "id": "424fe8b7",
   "metadata": {},
   "outputs": [],
   "source": [
    "# take a string and reverse it #apple - #elpp"
   ]
  },
  {
   "cell_type": "code",
   "execution_count": 47,
   "id": "f7d54486",
   "metadata": {},
   "outputs": [
    {
     "name": "stdout",
     "output_type": "stream",
     "text": [
      "elppa\n"
     ]
    }
   ],
   "source": [
    "def string_reverse(name):\n",
    "    return name[::-1]\n",
    "    \n",
    "result = string_reverse(\"apple\")\n",
    "print(result)"
   ]
  },
  {
   "cell_type": "code",
   "execution_count": null,
   "id": "6487e70c",
   "metadata": {},
   "outputs": [],
   "source": [
    "# take 4 numbers and remove 1,2,3,4 respectively from each and then get the sum of remaning numbers"
   ]
  },
  {
   "cell_type": "code",
   "execution_count": 49,
   "id": "7715fe7d",
   "metadata": {},
   "outputs": [
    {
     "name": "stdout",
     "output_type": "stream",
     "text": [
      "53\n"
     ]
    }
   ],
   "source": [
    "def numbers_remove(a,b,c,d):\n",
    "    x = a - 1\n",
    "    y = b - 2 \n",
    "    z = c - 3\n",
    "    l = d - 4\n",
    "    return (x + y + z + l)\n",
    "\n",
    "result = numbers_remove(12,13,16,22)\n",
    "print(result)\n",
    "\n",
    "    "
   ]
  },
  {
   "cell_type": "code",
   "execution_count": null,
   "id": "6eec84dc",
   "metadata": {},
   "outputs": [],
   "source": []
  }
 ],
 "metadata": {
  "kernelspec": {
   "display_name": "Python 3 (ipykernel)",
   "language": "python",
   "name": "python3"
  },
  "language_info": {
   "codemirror_mode": {
    "name": "ipython",
    "version": 3
   },
   "file_extension": ".py",
   "mimetype": "text/x-python",
   "name": "python",
   "nbconvert_exporter": "python",
   "pygments_lexer": "ipython3",
   "version": "3.11.5"
  }
 },
 "nbformat": 4,
 "nbformat_minor": 5
}

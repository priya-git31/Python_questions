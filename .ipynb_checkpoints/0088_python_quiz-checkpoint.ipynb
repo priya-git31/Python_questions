{
 "cells": [
  {
   "cell_type": "code",
   "execution_count": 4,
   "id": "dc79db6e",
   "metadata": {},
   "outputs": [],
   "source": [
    "# write a function to:\n",
    "# to add two strings apple and bake and get the len of the result string \n"
   ]
  },
  {
   "cell_type": "code",
   "execution_count": 16,
   "id": "2ef26c78",
   "metadata": {},
   "outputs": [
    {
     "name": "stdout",
     "output_type": "stream",
     "text": [
      "9\n"
     ]
    }
   ],
   "source": [
    "def add_length(a,b):\n",
    "    return len(a+b)\n",
    "\n",
    "\n",
    "result = add_length(\"apple\", \"bake\")\n",
    "print(result)"
   ]
  },
  {
   "cell_type": "code",
   "execution_count": null,
   "id": "3d42249b",
   "metadata": {},
   "outputs": [],
   "source": [
    "# take one number and add 100 and divide it by 23 and add 20 and return"
   ]
  },
  {
   "cell_type": "code",
   "execution_count": 8,
   "id": "875d5544",
   "metadata": {},
   "outputs": [
    {
     "name": "stdout",
     "output_type": "stream",
     "text": [
      "24.47826086956522\n"
     ]
    }
   ],
   "source": [
    "def math_function(a):\n",
    "    return((a+100)/23 + 20)\n",
    "\n",
    "result = math_function(3)\n",
    "print(result)\n",
    "    "
   ]
  },
  {
   "cell_type": "code",
   "execution_count": 17,
   "id": "453dbfc5",
   "metadata": {},
   "outputs": [],
   "source": [
    "# take a string and return the same string excet the last character"
   ]
  },
  {
   "cell_type": "code",
   "execution_count": 29,
   "id": "a2d9092b",
   "metadata": {},
   "outputs": [
    {
     "name": "stdout",
     "output_type": "stream",
     "text": [
      "maggi\n"
     ]
    }
   ],
   "source": [
    "def string_last(string):\n",
    "    return string[:-1]\n",
    "\n",
    "result = string_last(\"maggie\")\n",
    "print(result)"
   ]
  },
  {
   "cell_type": "code",
   "execution_count": null,
   "id": "63ba7478",
   "metadata": {},
   "outputs": [],
   "source": [
    "# take a list of 3 numbers and returns the sum of the numbers "
   ]
  },
  {
   "cell_type": "code",
   "execution_count": 60,
   "id": "61ccd66c",
   "metadata": {},
   "outputs": [
    {
     "name": "stdout",
     "output_type": "stream",
     "text": [
      "22\n"
     ]
    }
   ],
   "source": [
    "def sum_of_three_numbers(numbers):\n",
    "    return sum(numbers)\n",
    "\n",
    "result = sum_of_three_numbers([17,2,3])\n",
    "print(result)"
   ]
  },
  {
   "cell_type": "code",
   "execution_count": null,
   "id": "a1143235",
   "metadata": {},
   "outputs": [],
   "source": [
    "# takes 2 numbers and add 3 to number 1 and 4 to number 2 and then multuply them and return result"
   ]
  },
  {
   "cell_type": "code",
   "execution_count": 38,
   "id": "5d738551",
   "metadata": {},
   "outputs": [
    {
     "name": "stdout",
     "output_type": "stream",
     "text": [
      "56\n"
     ]
    }
   ],
   "source": [
    "def long_function(a,b):\n",
    "    x = a + 3 \n",
    "    y = b + 2 \n",
    "    return(x * y)\n",
    "\n",
    "result = long_function(4,6)\n",
    "print(result)"
   ]
  },
  {
   "cell_type": "code",
   "execution_count": null,
   "id": "3d22f051",
   "metadata": {},
   "outputs": [],
   "source": [
    "# take a string in lower case and return the upper case version of it"
   ]
  },
  {
   "cell_type": "code",
   "execution_count": 42,
   "id": "fd228a1d",
   "metadata": {},
   "outputs": [
    {
     "name": "stdout",
     "output_type": "stream",
     "text": [
      "PYTHON\n"
     ]
    }
   ],
   "source": [
    "def upper_case_convert(name):\n",
    "    return name.upper()\n",
    "\n",
    "result = upper_case_convert(\"python\")\n",
    "print(result)"
   ]
  },
  {
   "cell_type": "code",
   "execution_count": null,
   "id": "28d96fee",
   "metadata": {},
   "outputs": [],
   "source": [
    "# take a list of numbers and reverse it"
   ]
  },
  {
   "cell_type": "code",
   "execution_count": 61,
   "id": "150478ec",
   "metadata": {},
   "outputs": [
    {
     "name": "stdout",
     "output_type": "stream",
     "text": [
      "[23, 10, 1]\n"
     ]
    }
   ],
   "source": [
    "def reverse_numbers(numbers):\n",
    "    return numbers[::-1]\n",
    "\n",
    "result = reverse_numbers([1,10,23])\n",
    "print(result)"
   ]
  },
  {
   "cell_type": "code",
   "execution_count": 56,
   "id": "6c988a20",
   "metadata": {},
   "outputs": [],
   "source": [
    "# take 3 numbers and see how close is their sum to 100 "
   ]
  },
  {
   "cell_type": "code",
   "execution_count": 66,
   "id": "8d28a5c5",
   "metadata": {},
   "outputs": [
    {
     "name": "stdout",
     "output_type": "stream",
     "text": [
      "66\n"
     ]
    }
   ],
   "source": [
    "def sum_of_3(a,b,c):\n",
    "    x =  a + b + c\n",
    "    distance = abs(100 - x)\n",
    "    return (distance)\n",
    "\n",
    "result = sum_of_3(13,10,11)\n",
    "print(result)\n",
    "    \n"
   ]
  },
  {
   "cell_type": "code",
   "execution_count": null,
   "id": "424fe8b7",
   "metadata": {},
   "outputs": [],
   "source": [
    "# take a string and reverse it #apple - #elpp"
   ]
  },
  {
   "cell_type": "code",
   "execution_count": 47,
   "id": "f7d54486",
   "metadata": {},
   "outputs": [
    {
     "name": "stdout",
     "output_type": "stream",
     "text": [
      "elppa\n"
     ]
    }
   ],
   "source": [
    "def string_reverse(name):\n",
    "    return name[::-1]\n",
    "    \n",
    "result = string_reverse(\"apple\")\n",
    "print(result)"
   ]
  },
  {
   "cell_type": "code",
   "execution_count": null,
   "id": "6487e70c",
   "metadata": {},
   "outputs": [],
   "source": [
    "# take 4 numbers and remove 1,2,3,4 respectively from each and then get the sum of remaning numbers"
   ]
  },
  {
   "cell_type": "code",
   "execution_count": 49,
   "id": "7715fe7d",
   "metadata": {},
   "outputs": [
    {
     "name": "stdout",
     "output_type": "stream",
     "text": [
      "53\n"
     ]
    }
   ],
   "source": [
    "def numbers_remove(a,b,c,d):\n",
    "    x = a - 1\n",
    "    y = b - 2 \n",
    "    z = c - 3\n",
    "    l = d - 4\n",
    "    return (x + y + z + l)\n",
    "\n",
    "result = numbers_remove(12,13,16,22)\n",
    "print(result)\n",
    "\n",
    "    "
   ]
  },
  {
   "cell_type": "code",
   "execution_count": 37,
   "id": "95c4f067",
   "metadata": {},
   "outputs": [],
   "source": [
    "# Take a number and multiply it by 5, subtract 10, then check if result is even"
   ]
  },
  {
   "cell_type": "code",
   "execution_count": 1,
   "id": "f113b1f7",
   "metadata": {},
   "outputs": [
    {
     "name": "stdout",
     "output_type": "stream",
     "text": [
      "even\n"
     ]
    }
   ],
   "source": [
    "def even_number_check(a):\n",
    "    x = (a * 5)/10\n",
    "    if x % 2 == 0: \n",
    "         return \"even\"\n",
    "    else : \n",
    "         return \"odd\"\n",
    "\n",
    "result = even_number_check(20)\n",
    "print(result)\n"
   ]
  },
  {
   "cell_type": "code",
   "execution_count": 30,
   "id": "1df0d035",
   "metadata": {},
   "outputs": [],
   "source": [
    "# Take a string and return only its first three characters"
   ]
  },
  {
   "cell_type": "code",
   "execution_count": 8,
   "id": "555a60c2",
   "metadata": {},
   "outputs": [
    {
     "name": "stdout",
     "output_type": "stream",
     "text": [
      "pyt\n"
     ]
    }
   ],
   "source": [
    "def first_three_characters(name):\n",
    "    return name[0:3]\n",
    "\n",
    "result = first_three_characters(\"python\")\n",
    "print(result)"
   ]
  },
  {
   "cell_type": "code",
   "execution_count": null,
   "id": "6b5ffd1e",
   "metadata": {},
   "outputs": [],
   "source": [
    "# Take a list of 4 numbers and return their average"
   ]
  },
  {
   "cell_type": "code",
   "execution_count": 13,
   "id": "296add75",
   "metadata": {},
   "outputs": [
    {
     "name": "stdout",
     "output_type": "stream",
     "text": [
      "27.666666666666668\n"
     ]
    }
   ],
   "source": [
    "def avg_of_4(numbers):\n",
    "    return sum(numbers)/len(numbers)\n",
    "\n",
    "result = avg_of_4([78,2,3])\n",
    "print(result)"
   ]
  },
  {
   "cell_type": "code",
   "execution_count": null,
   "id": "99b093e6",
   "metadata": {},
   "outputs": [],
   "source": [
    "# Take two numbers, double the first one and triple the second one, then add them"
   ]
  },
  {
   "cell_type": "code",
   "execution_count": 14,
   "id": "ff795aa6",
   "metadata": {},
   "outputs": [
    {
     "name": "stdout",
     "output_type": "stream",
     "text": [
      "52\n"
     ]
    }
   ],
   "source": [
    "def double_triple(a,b):\n",
    "    x = a * 2 \n",
    "    y = b * 3 \n",
    "    return x + y \n",
    "\n",
    "result = double_triple(2, 16)\n",
    "print(result)"
   ]
  },
  {
   "cell_type": "code",
   "execution_count": null,
   "id": "4b3f9095",
   "metadata": {},
   "outputs": [],
   "source": [
    "# Take a string and add \"hello_\" to its beginning"
   ]
  },
  {
   "cell_type": "code",
   "execution_count": 19,
   "id": "9eb57e88",
   "metadata": {},
   "outputs": [
    {
     "name": "stdout",
     "output_type": "stream",
     "text": [
      "Hello! it is me\n"
     ]
    }
   ],
   "source": [
    "def hello_string(you): \n",
    "    return \"Hello! \" + you \n",
    "\n",
    "result = hello_string(\"it is me\")\n",
    "print(result)"
   ]
  },
  {
   "cell_type": "code",
   "execution_count": null,
   "id": "2c12aa79",
   "metadata": {},
   "outputs": [],
   "source": [
    "# Take a list of numbers and return only the even numbers"
   ]
  },
  {
   "cell_type": "code",
   "execution_count": 23,
   "id": "38ff7a72",
   "metadata": {},
   "outputs": [
    {
     "ename": "SyntaxError",
     "evalue": "invalid syntax (1589427709.py, line 1)",
     "output_type": "error",
     "traceback": [
      "\u001b[0;36m  Cell \u001b[0;32mIn[23], line 1\u001b[0;36m\u001b[0m\n\u001b[0;31m    def only_even_numbers(int(numbers)):\u001b[0m\n\u001b[0m                             ^\u001b[0m\n\u001b[0;31mSyntaxError\u001b[0m\u001b[0;31m:\u001b[0m invalid syntax\n"
     ]
    }
   ],
   "source": [
    "def only_even_numbers(int(numbers)): \n",
    "    if (int(numbers)) % 2 == 0: \n",
    "        return numbers\n",
    "    else:\n",
    "        return \"not even\"\n",
    "    \n",
    "result = only_even_numbers([12,3,4])\n",
    "print(result)"
   ]
  },
  {
   "cell_type": "code",
   "execution_count": null,
   "id": "1c8e4197",
   "metadata": {},
   "outputs": [],
   "source": [
    "# Take 3 numbers and return the largest one"
   ]
  },
  {
   "cell_type": "code",
   "execution_count": 24,
   "id": "07b9caef",
   "metadata": {},
   "outputs": [
    {
     "name": "stdout",
     "output_type": "stream",
     "text": [
      "45\n"
     ]
    }
   ],
   "source": [
    "def largest_numbers(a,b,c): \n",
    "    if a > b and c: \n",
    "           return a \n",
    "    elif b > a and c: \n",
    "        return b \n",
    "    else: \n",
    "        return c \n",
    "    \n",
    "result = largest_numbers(12,45,23)\n",
    "print(result)"
   ]
  },
  {
   "cell_type": "code",
   "execution_count": null,
   "id": "7ebffb71",
   "metadata": {},
   "outputs": [],
   "source": [
    "# Take a list of numbers and return sum of first and last number"
   ]
  },
  {
   "cell_type": "code",
   "execution_count": 42,
   "id": "1e7da2d0",
   "metadata": {},
   "outputs": [
    {
     "name": "stdout",
     "output_type": "stream",
     "text": [
      "66\n"
     ]
    }
   ],
   "source": [
    "def sum_first_last(numbers): \n",
    "    x = numbers[0]\n",
    "    y = numbers[-1]\n",
    "    z = x + y \n",
    "    return(z)\n",
    "\n",
    "\n",
    "result = sum_first_last([10,23,56])\n",
    "print(result)"
   ]
  },
  {
   "cell_type": "code",
   "execution_count": null,
   "id": "e7b7e86f",
   "metadata": {},
   "outputs": [],
   "source": [
    "# Take two numbers and check if their sum is greater than 100"
   ]
  },
  {
   "cell_type": "code",
   "execution_count": 44,
   "id": "cbb0828f",
   "metadata": {},
   "outputs": [
    {
     "name": "stdout",
     "output_type": "stream",
     "text": [
      "not greater than 100\n"
     ]
    }
   ],
   "source": [
    "def check_sum(a,b): \n",
    "    x = a + b \n",
    "    if x > 100: \n",
    "        return \"greater than 100\"\n",
    "    else: \n",
    "        return \"not greater than 100\"\n",
    "    \n",
    "result = check_sum(12, 32)\n",
    "print(result)"
   ]
  },
  {
   "cell_type": "code",
   "execution_count": null,
   "id": "02ed8175",
   "metadata": {},
   "outputs": [],
   "source": [
    "# Take a string and add its length to the end"
   ]
  },
  {
   "cell_type": "code",
   "execution_count": 6,
   "id": "2c54db1f",
   "metadata": {},
   "outputs": [
    {
     "name": "stdout",
     "output_type": "stream",
     "text": [
      "python6\n"
     ]
    }
   ],
   "source": [
    "def length_end(name): \n",
    "    return name + str(len(name))\n",
    "\n",
    "result = length_end(\"python\")\n",
    "print(result)"
   ]
  },
  {
   "cell_type": "code",
   "execution_count": 5,
   "id": "8ab1bf7c",
   "metadata": {},
   "outputs": [
    {
     "data": {
      "text/plain": [
       "3"
      ]
     },
     "execution_count": 5,
     "metadata": {},
     "output_type": "execute_result"
    }
   ],
   "source": [
    "a = [1,3,3,22,3 ]\n",
    "a.count(3)\n"
   ]
  },
  {
   "cell_type": "code",
   "execution_count": 8,
   "id": "5d028461",
   "metadata": {},
   "outputs": [
    {
     "name": "stdout",
     "output_type": "stream",
     "text": [
      "3\n"
     ]
    }
   ],
   "source": [
    "a = str(123)\n",
    "print(len(a))\n"
   ]
  },
  {
   "cell_type": "code",
   "execution_count": null,
   "id": "9d809f35",
   "metadata": {},
   "outputs": [],
   "source": []
  }
 ],
 "metadata": {
  "kernelspec": {
   "display_name": "Python 3 (ipykernel)",
   "language": "python",
   "name": "python3"
  },
  "language_info": {
   "codemirror_mode": {
    "name": "ipython",
    "version": 3
   },
   "file_extension": ".py",
   "mimetype": "text/x-python",
   "name": "python",
   "nbconvert_exporter": "python",
   "pygments_lexer": "ipython3",
   "version": "3.11.5"
  }
 },
 "nbformat": 4,
 "nbformat_minor": 5
}
